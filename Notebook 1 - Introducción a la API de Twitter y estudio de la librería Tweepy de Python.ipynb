{
 "metadata": {
  "language_info": {
   "codemirror_mode": {
    "name": "ipython",
    "version": 3
   },
   "file_extension": ".py",
   "mimetype": "text/x-python",
   "name": "python",
   "nbconvert_exporter": "python",
   "pygments_lexer": "ipython3",
   "version": "3.8.6"
  },
  "orig_nbformat": 2,
  "kernelspec": {
   "name": "python3",
   "display_name": "Python 3.8.6 64-bit",
   "metadata": {
    "interpreter": {
     "hash": "0c19b604f212580c7b262bd29a4da5199a590044f40fb1a87c38c32f1e9247cb"
    }
   }
  }
 },
 "nbformat": 4,
 "nbformat_minor": 2,
 "cells": [
  {
   "source": [
    "# Introducción a Tweepy\n",
    "## Conexión a la API de Twitter\n",
    "Instalaremos la librería de Tweepy y recorreremos el archivo credentials.txt para recoger las claves."
   ],
   "cell_type": "markdown",
   "metadata": {}
  },
  {
   "cell_type": "code",
   "execution_count": 7,
   "metadata": {},
   "outputs": [
    {
     "output_type": "stream",
     "name": "stdout",
     "text": [
      "Requirement already satisfied: tweepy in c:\\users\\pbied\\appdata\\local\\programs\\python\\python38\\lib\\site-packages (3.10.0)\nRequirement already satisfied: requests-oauthlib>=0.7.0 in c:\\users\\pbied\\appdata\\local\\programs\\python\\python38\\lib\\site-packages (from tweepy) (1.3.0)\nRequirement already satisfied: six>=1.10.0 in c:\\users\\pbied\\appdata\\roaming\\python\\python38\\site-packages (from tweepy) (1.15.0)\nRequirement already satisfied: requests[socks]>=2.11.1 in c:\\users\\pbied\\appdata\\local\\programs\\python\\python38\\lib\\site-packages (from tweepy) (2.25.1)\nRequirement already satisfied: oauthlib>=3.0.0 in c:\\users\\pbied\\appdata\\local\\programs\\python\\python38\\lib\\site-packages (from requests-oauthlib>=0.7.0->tweepy) (3.1.0)\nRequirement already satisfied: chardet<5,>=3.0.2 in c:\\users\\pbied\\appdata\\local\\programs\\python\\python38\\lib\\site-packages (from requests[socks]>=2.11.1->tweepy) (4.0.0)\nRequirement already satisfied: certifi>=2017.4.17 in c:\\users\\pbied\\appdata\\local\\programs\\python\\python38\\lib\\site-packages (from requests[socks]>=2.11.1->tweepy) (2020.12.5)\nRequirement already satisfied: idna<3,>=2.5 in c:\\users\\pbied\\appdata\\local\\programs\\python\\python38\\lib\\site-packages (from requests[socks]>=2.11.1->tweepy) (2.10)\nRequirement already satisfied: urllib3<1.27,>=1.21.1 in c:\\users\\pbied\\appdata\\local\\programs\\python\\python38\\lib\\site-packages (from requests[socks]>=2.11.1->tweepy) (1.26.2)\nRequirement already satisfied: PySocks!=1.5.7,>=1.5.6 in c:\\users\\pbied\\appdata\\local\\programs\\python\\python38\\lib\\site-packages (from requests[socks]>=2.11.1->tweepy) (1.7.1)\n"
     ]
    }
   ],
   "source": [
    "!pip install tweepy"
   ]
  },
  {
   "cell_type": "code",
   "execution_count": 65,
   "metadata": {},
   "outputs": [],
   "source": [
    "import tweepy\n",
    "from tweepy import OAuthHandler\n",
    "import json\n",
    "\n",
    "#Recogemos nuestras credenciales de la API de Twitter localizadadas en el archivo 'credentials.txt'\n",
    "credenciales = []\n",
    "f = open(\"credentials.txt\", \"r\")\n",
    "for linea in f:\n",
    "    key = linea.split(\"=\")[1]\n",
    "    credenciales.append(key.strip(\"\\n\"))\n",
    "f.close()\n",
    "\n",
    "#Autorizamos el acceso a la API\n",
    "api_key = credenciales[0]\n",
    "api_secret = credenciales[1]\n",
    "access_token = credenciales[3]\n",
    "access_secret = credenciales[4]\n",
    "auth = OAuthHandler(api_key, api_secret)\n",
    "auth.set_access_token(access_token, access_secret)\n",
    "api = tweepy.API(auth, wait_on_rate_limit=True)"
   ]
  },
  {
   "source": [
    "## Recopilando datos de Twitter\n",
    "Vamos a hacer un repaso de los principales métodos disponibles de la API de Twitter y observaremos las ventajas de usar una librería como es Tweetpy"
   ],
   "cell_type": "markdown",
   "metadata": {}
  },
  {
   "cell_type": "code",
   "execution_count": 9,
   "metadata": {},
   "outputs": [
    {
     "output_type": "stream",
     "name": "stdout",
     "text": [
      "Mi name en Twitter: Pedro B\nY mi @: Pedrobf98\n"
     ]
    }
   ],
   "source": [
    "#Obtener información sobre mi\n",
    "my_twitter_user = api.me()\n",
    "print(\"Mi name en Twitter: \"+my_twitter_user.name)\n",
    "print(\"Y mi @: \"+my_twitter_user.screen_name)"
   ]
  },
  {
   "cell_type": "code",
   "execution_count": 60,
   "metadata": {},
   "outputs": [
    {
     "output_type": "stream",
     "name": "stdout",
     "text": [
      "Autor del tweet: Pedrobf98\nTexto del tweet: hello world desde python\n"
     ]
    }
   ],
   "source": [
    "#Crear un tweet desde mi propia cuenta\n",
    "status = api.update_status(\"hello world desde python\")\n",
    "#Buscamos tweet por el id del anterior\n",
    "tweet_creado = api.get_status(status.id)\n",
    "print(\"Autor del tweet: \" + tweet_creado.author.screen_name)\n",
    "print(\"Texto del tweet: \" + tweet_creado.text)"
   ]
  },
  {
   "cell_type": "code",
   "execution_count": 10,
   "metadata": {},
   "outputs": [
    {
     "output_type": "stream",
     "name": "stdout",
     "text": [
      "{\n    \"id\": 412408732,\n    \"id_str\": \"412408732\",\n    \"name\": \"Pedro B\",\n    \"screen_name\": \"Pedrobf98\",\n    \"location\": \"Sevilla\",\n    \"profile_location\": null,\n    \"description\": \"Estudiante de Ingenier\\u00eda Inform\\u00e1tica Software en la US. Aprendiendo a tatuar.\",\n    \"url\": null,\n    \"entities\": {\n        \"description\": {\n            \"urls\": []\n        }\n    },\n    \"protected\": false,\n    \"followers_count\": 90,\n    \"friends_count\": 333,\n    \"listed_count\": 2,\n    \"created_at\": \"Mon Nov 14 17:07:01 +0000 2011\",\n    \"favourites_count\": 2089,\n    \"utc_offset\": null,\n    \"time_zone\": null,\n    \"geo_enabled\": false,\n    \"verified\": false,\n    \"statuses_count\": 2556,\n    \"lang\": null,\n    \"status\": {\n        \"created_at\": \"Tue Mar 23 22:28:19 +0000 2021\",\n        \"id\": 1374488205085437963,\n        \"id_str\": \"1374488205085437963\",\n        \"text\": \"RT @MikeDrucker: \\u201cEvery time there\\u2019s a shooting\\u201d is definitely a phrase to start your defense of guns https://t.co/qS9jDtIpjJ\",\n        \"truncated\": false,\n        \"entities\": {\n            \"hashtags\": [],\n            \"symbols\": [],\n            \"user_mentions\": [\n                {\n                    \"screen_name\": \"MikeDrucker\",\n                    \"name\": \"Mike Drucker\",\n                    \"id\": 17158189,\n                    \"id_str\": \"17158189\",\n                    \"indices\": [\n                        3,\n                        15\n                    ]\n                }\n            ],\n            \"urls\": [\n                {\n                    \"url\": \"https://t.co/qS9jDtIpjJ\",\n                    \"expanded_url\": \"https://twitter.com/therecount/status/1374371408516583435\",\n                    \"display_url\": \"twitter.com/therecount/sta\\u2026\",\n                    \"indices\": [\n                        102,\n                        125\n                    ]\n                }\n            ]\n        },\n        \"source\": \"<a href=\\\"https://mobile.twitter.com\\\" rel=\\\"nofollow\\\">Twitter Web App</a>\",\n        \"in_reply_to_status_id\": null,\n        \"in_reply_to_status_id_str\": null,\n        \"in_reply_to_user_id\": null,\n        \"in_reply_to_user_id_str\": null,\n        \"in_reply_to_screen_name\": null,\n        \"geo\": null,\n        \"coordinates\": null,\n        \"place\": null,\n        \"contributors\": null,\n        \"retweeted_status\": {\n            \"created_at\": \"Tue Mar 23 21:52:17 +0000 2021\",\n            \"id\": 1374479135515369474,\n            \"id_str\": \"1374479135515369474\",\n            \"text\": \"\\u201cEvery time there\\u2019s a shooting\\u201d is definitely a phrase to start your defense of guns https://t.co/qS9jDtIpjJ\",\n            \"truncated\": false,\n            \"entities\": {\n                \"hashtags\": [],\n                \"symbols\": [],\n                \"user_mentions\": [],\n                \"urls\": [\n                    {\n                        \"url\": \"https://t.co/qS9jDtIpjJ\",\n                        \"expanded_url\": \"https://twitter.com/therecount/status/1374371408516583435\",\n                        \"display_url\": \"twitter.com/therecount/sta\\u2026\",\n                        \"indices\": [\n                            85,\n                            108\n                        ]\n                    }\n                ]\n            },\n            \"source\": \"<a href=\\\"http://twitter.com/download/iphone\\\" rel=\\\"nofollow\\\">Twitter for iPhone</a>\",\n            \"in_reply_to_status_id\": null,\n            \"in_reply_to_status_id_str\": null,\n            \"in_reply_to_user_id\": null,\n            \"in_reply_to_user_id_str\": null,\n            \"in_reply_to_screen_name\": null,\n            \"geo\": null,\n            \"coordinates\": null,\n            \"place\": null,\n            \"contributors\": null,\n            \"is_quote_status\": true,\n            \"quoted_status_id\": 1374371408516583435,\n            \"quoted_status_id_str\": \"1374371408516583435\",\n            \"retweet_count\": 12493,\n            \"favorite_count\": 85512,\n            \"favorited\": false,\n            \"retweeted\": true,\n            \"possibly_sensitive\": false,\n            \"lang\": \"en\"\n        },\n        \"is_quote_status\": true,\n        \"quoted_status_id\": 1374371408516583435,\n        \"quoted_status_id_str\": \"1374371408516583435\",\n        \"retweet_count\": 12493,\n        \"favorite_count\": 0,\n        \"favorited\": false,\n        \"retweeted\": true,\n        \"possibly_sensitive\": false,\n        \"lang\": \"en\"\n    },\n    \"contributors_enabled\": false,\n    \"is_translator\": false,\n    \"is_translation_enabled\": false,\n    \"profile_background_color\": \"131516\",\n    \"profile_background_image_url\": \"http://abs.twimg.com/images/themes/theme14/bg.gif\",\n    \"profile_background_image_url_https\": \"https://abs.twimg.com/images/themes/theme14/bg.gif\",\n    \"profile_background_tile\": true,\n    \"profile_image_url\": \"http://pbs.twimg.com/profile_images/1105437664675799040/NghDcNfE_normal.jpg\",\n    \"profile_image_url_https\": \"https://pbs.twimg.com/profile_images/1105437664675799040/NghDcNfE_normal.jpg\",\n    \"profile_banner_url\": \"https://pbs.twimg.com/profile_banners/412408732/1524478448\",\n    \"profile_link_color\": \"009999\",\n    \"profile_sidebar_border_color\": \"000000\",\n    \"profile_sidebar_fill_color\": \"EFEFEF\",\n    \"profile_text_color\": \"333333\",\n    \"profile_use_background_image\": true,\n    \"has_extended_profile\": true,\n    \"default_profile\": false,\n    \"default_profile_image\": false,\n    \"following\": false,\n    \"follow_request_sent\": false,\n    \"notifications\": false,\n    \"translator_type\": \"none\",\n    \"suspended\": false,\n    \"needs_phone_verification\": false\n}\n"
     ]
    }
   ],
   "source": [
    "#Estructura del JSON de un User\n",
    "print (json.dumps(my_twitter_user._json, indent=4))"
   ]
  },
  {
   "cell_type": "code",
   "execution_count": 11,
   "metadata": {},
   "outputs": [
    {
     "output_type": "stream",
     "name": "stdout",
     "text": [
      "JarpotG\nalfonso_cade5\nbeatrizl0ra\nGuilleLosada19\nMaraBalam10\nPermavolta\nCristina_Biebs\nRal_gv\nJuanma_molina99\nGuarRojo\nset_jonay\nxirim__\nTaxtizy\nCore_diabolis\nSPVD8_20\n"
     ]
    }
   ],
   "source": [
    "#Obtener el @ de 15 de mis seguidores\n",
    "for follower in my_twitter_user.followers(count=15):\n",
    "    print(follower.screen_name)"
   ]
  },
  {
   "cell_type": "code",
   "execution_count": 12,
   "metadata": {},
   "outputs": [
    {
     "output_type": "execute_result",
     "data": {
      "text/plain": [
       "333"
      ]
     },
     "metadata": {},
     "execution_count": 12
    }
   ],
   "source": [
    "#Obtener el numero de cuentas a las que sigo\n",
    "my_twitter_user.friends_count"
   ]
  },
  {
   "cell_type": "code",
   "execution_count": 15,
   "metadata": {},
   "outputs": [
    {
     "output_type": "stream",
     "name": "stdout",
     "text": [
      "{\n    \"created_at\": \"Wed Mar 24 16:22:34 +0000 2021\",\n    \"id\": 1374758547490213893,\n    \"id_str\": \"1374758547490213893\",\n    \"text\": \"hello world desde python\",\n    \"truncated\": false,\n    \"entities\": {\n        \"hashtags\": [],\n        \"symbols\": [],\n        \"user_mentions\": [],\n        \"urls\": []\n    },\n    \"source\": \"\",\n    \"in_reply_to_status_id\": null,\n    \"in_reply_to_status_id_str\": null,\n    \"in_reply_to_user_id\": null,\n    \"in_reply_to_user_id_str\": null,\n    \"in_reply_to_screen_name\": null,\n    \"user\": {\n        \"id\": 412408732,\n        \"id_str\": \"412408732\",\n        \"name\": \"Pedro B\",\n        \"screen_name\": \"Pedrobf98\",\n        \"location\": \"Sevilla\",\n        \"description\": \"Estudiante de Ingenier\\u00eda Inform\\u00e1tica Software en la US. Aprendiendo a tatuar.\",\n        \"url\": null,\n        \"entities\": {\n            \"description\": {\n                \"urls\": []\n            }\n        },\n        \"protected\": false,\n        \"followers_count\": 90,\n        \"friends_count\": 333,\n        \"listed_count\": 2,\n        \"created_at\": \"Mon Nov 14 17:07:01 +0000 2011\",\n        \"favourites_count\": 2089,\n        \"utc_offset\": null,\n        \"time_zone\": null,\n        \"geo_enabled\": false,\n        \"verified\": false,\n        \"statuses_count\": 2557,\n        \"lang\": null,\n        \"contributors_enabled\": false,\n        \"is_translator\": false,\n        \"is_translation_enabled\": false,\n        \"profile_background_color\": \"131516\",\n        \"profile_background_image_url\": \"http://abs.twimg.com/images/themes/theme14/bg.gif\",\n        \"profile_background_image_url_https\": \"https://abs.twimg.com/images/themes/theme14/bg.gif\",\n        \"profile_background_tile\": true,\n        \"profile_image_url\": \"http://pbs.twimg.com/profile_images/1105437664675799040/NghDcNfE_normal.jpg\",\n        \"profile_image_url_https\": \"https://pbs.twimg.com/profile_images/1105437664675799040/NghDcNfE_normal.jpg\",\n        \"profile_banner_url\": \"https://pbs.twimg.com/profile_banners/412408732/1524478448\",\n        \"profile_link_color\": \"009999\",\n        \"profile_sidebar_border_color\": \"000000\",\n        \"profile_sidebar_fill_color\": \"EFEFEF\",\n        \"profile_text_color\": \"333333\",\n        \"profile_use_background_image\": true,\n        \"has_extended_profile\": true,\n        \"default_profile\": false,\n        \"default_profile_image\": false,\n        \"following\": false,\n        \"follow_request_sent\": false,\n        \"notifications\": false,\n        \"translator_type\": \"none\"\n    },\n    \"geo\": null,\n    \"coordinates\": null,\n    \"place\": null,\n    \"contributors\": null,\n    \"is_quote_status\": false,\n    \"retweet_count\": 0,\n    \"favorite_count\": 0,\n    \"favorited\": false,\n    \"retweeted\": false,\n    \"lang\": \"de\"\n}\n"
     ]
    }
   ],
   "source": [
    "#Estructura del JSON un tweet\n",
    "print (json.dumps(tweet_creado._json, indent=4))"
   ]
  },
  {
   "cell_type": "code",
   "execution_count": 62,
   "metadata": {},
   "outputs": [
    {
     "output_type": "stream",
     "name": "stdout",
     "text": [
      "📰Las últimas #Noticias de la US, en el Boletín BINUS de la semana ➡️ https://t.co/hdiIEfayAH https://t.co/IusqlNnuWK\nRT @QuimicaUs: ¿Quieres ganar un programa internacional en la UCBerkeley o en la InAcademy?\n\nParticipa en el XVI Concurso de Ideas de Empre…\nRT @Congreso_Es: 🖼 #Galería Cristina Pauner, profesora de Derecho Constitucional de la Universidad Jaume I, y Esperanza Gómez, profesora de…\n🌞 @EducacionUs 👨‍🏫👩‍🏫 https://t.co/IJRp6a4VBR\n📬¡Últimas horas! Cursos intensivos B1 de francés, inglés e italiano 🇫🇷🇬🇧🇮🇹  ➡ https://t.co/gzujknoAJy  #idiomas https://t.co/Z69XNTh57g\nRT @EDITORIALUS: En 1809 #TalDiaComoHoy nació el #escritor Mariano José de Larra➡️ 𝑫𝒆 𝑩𝒍𝒂𝒏𝒄𝒐 𝑾𝒉𝒊𝒕𝒆 𝒂 𝒍𝒂 𝑮𝒆𝒏𝒆𝒓𝒂𝒄𝒊𝒐́𝒏 𝒅𝒆𝒍 27, un libro con 16…\nRT @InvestigaUS: La @unisevilla organizó cerca de 100 actividades de divulgación científica en 2020 a pesar de la pandemia por #COVID19 en…\nRT @CICUS_: Aún estás a tiempo de adquirir tu entrada para el #concierto que cierra el XI Festival de Música Contemporánea #ZahirEnsemble,…\nRT @cdesevilla: 📍CURSO DE TERMINOLOGÍA DE LA UE EN INGLÉS📍\n\n💡Terminología necesaria para trabajar en el ámbito europeo🇪🇺\n\n📅Del 6 abril al 6…\nRT @CedpeOficial: #EVENTODELUJO INSCRIPCIONES🚨https://t.co/euodm96deo\nINVITADO ESPECIAL: PROF. DR. DR. H. C. MULT. GÜNTHER JAKOBS\n#MAÑANA,…\n"
     ]
    }
   ],
   "source": [
    "#Obtener información de otro usuario, en este caso la timeline de la cuenta oficial de la Universidad de Sevilla\n",
    "universidad_sevilla_timeline = api.user_timeline(id= \"unisevilla\",count=10,tweet_mode='extended')\n",
    "for tweets_uni_sevilla in universidad_sevilla_timeline:\n",
    "    print(tweets_uni_sevilla.full_text)"
   ]
  },
  {
   "cell_type": "code",
   "execution_count": 54,
   "metadata": {},
   "outputs": [
    {
     "output_type": "stream",
     "name": "stdout",
     "text": [
      "Número de tweets recogidos: 100\n"
     ]
    }
   ],
   "source": [
    "#Búsqueda de Tweets\n",
    "#Mediante el método search la búsqueda de tweets está limitada a 100 tweets\n",
    "results_hashtag_100 = api.search(q = '#datascience', lang = 'es', result_type = 'recent', tweet_mode='extended',count=150)\n",
    "print(\"Número de tweets recogidos: \" + str(len(results_hashtag_100)))"
   ]
  },
  {
   "cell_type": "code",
   "execution_count": 58,
   "metadata": {},
   "outputs": [
    {
     "output_type": "stream",
     "name": "stdout",
     "text": [
      "Número de tweets recogidos mediante cursor: 150\n"
     ]
    }
   ],
   "source": [
    "#Usando el objeto Cursor de tweetpy podemos superar el límite de 100 tweets que tiene el metodo de la api search\n",
    "cont= 0\n",
    "for tweet in tweepy.Cursor(api.search, q = '#datascience', lang = 'es', result_type = 'recent').items(150):\n",
    "    cont= cont+1\n",
    "print(\"Número de tweets recogidos mediante cursor: \" + str(cont))"
   ]
  },
  {
   "cell_type": "code",
   "execution_count": 114,
   "metadata": {},
   "outputs": [
    {
     "output_type": "stream",
     "name": "stdout",
     "text": [
      "Conectado\n",
      "Streaming de tweets completado\n",
      "Numero de tweets recogidos: 18\n",
      "Tweet número: 0\n",
      "RT @elconfidencial: Alemania avisa de \"una pandemia más letal\", y retira el cierre. ¿Debe reaccionar España? https://t.co/84B95ookbW\n",
      "Tweet número: 1\n",
      "RT @ECOEXPLORATORIO: [CIENCIA VIRTUAL] Participa del webinar \"Conociendo el tiempo costero con @caricoos\" hoy miércoles, 24 de marzo, a las…\n",
      "Tweet número: 2\n",
      "RT @muyinteresante: La CIA desclasifica todos los documentos sobre ovnis https://t.co/4oqEWTemaE\n",
      "Tweet número: 3\n",
      "RT @hernesr: @CianoBritos @Golum03477364 Pobre payaso, siempre con la info atrasada. Le tiran datos para dejarlo pegado.\n",
      "Tweet número: 4\n",
      "@Kv0th3_88 @ManuGFresnillo @Reina_Hipster Vamos cuartos en la UE eh xD no se de donde te has sacado los datos. Y si… https://t.co/wJpW0vgvQ9\n",
      "Tweet número: 5\n",
      "RT @Bgg6017: 📌”Pues fíjate que yo tengo otros datos! (...) lo que se tiene que decir es que es un problema entre dos comunidades indígenas(…\n",
      "Tweet número: 6\n",
      "RT @temporalescyl: Los científicos son trabajadores públicos en precario @sanchezcastejon @Yolanda_Diaz_ ningún funcionario  temporal es in…\n",
      "Tweet número: 7\n",
      "RT @espinozacuellar: Enrique París en el Senado: \"es un placer escuchar a un experto verdadero (el biólogo Tomás Pérez Acle), porque además…\n",
      "Tweet número: 8\n",
      "@duartegustavo5 @FOXSportsMX Claro, los datos 😎 https://t.co/tToQedTWq2\n",
      "Tweet número: 9\n",
      "Te invitamos a ser parte de nuestro webinar este jueves, en donde trataremos el tema de: “Tendencias de Innovación… https://t.co/0ddTQq2iEn\n",
      "Tweet número: 10\n",
      "@andaluzco  ahí llevas un aperitivo ,si tienes algo de interés entra en el enlace, y esto es solo la punta del iceb… https://t.co/EjgDKBi1uY\n",
      "Tweet número: 11\n",
      "RT @IdiazAyuso: En una crisis sanitaria la transparencia es fundamental. \n",
      "\n",
      "Queremos conocer los datos del control de Barajas: cuánta gente…\n",
      "Tweet número: 12\n",
      "RT @Bernat_Deltell: 1)\n",
      "España escala a la quinta posición de los países con más pobreza de la UE con un 20,7% de personas en riesgo, según…\n",
      "Tweet número: 13\n",
      "RT @janogarcia_: Irene se cree que todos los hombres son como su marido. Por suerte, no es así. \n",
      "\n",
      "https://t.co/jLLzmGQsP5\n",
      "Tweet número: 14\n",
      "@raquelggc Como siempre, gracias por los datos un día más y por el apoyo a #NoAlToqueDeQueda (me he sumado tarde pe… https://t.co/znECsYWV98\n",
      "Tweet número: 15\n",
      "RT @Mibelis: Nuevos datos en relación a la Vacuna AstraZeneca: ensayo clínico en EE.UU. asegura que tiene eficacia de 100% para casos sever…\n",
      "Tweet número: 16\n",
      "RT @MunicipioQuito: Cuando acudas a pagar los valores de tu #ImpuestoPredialUIO, recuerda que puedes proporcionar información como:\n",
      "➡️ Núme…\n",
      "Tweet número: 17\n",
      "RT @Esther_Gomez_M: Una vergüenza y un despilfarro: \n",
      "\n",
      "📍EMT aumenta el gasto en alta dirección un 34% durante 2020 con más altos cargos que,…\n"
     ]
    }
   ],
   "source": [
    "#Streaming de Tweets\n",
    "#Clase que recibe el listener de tweepy y procesa los tweets como yo quiero\n",
    "import time\n",
    "class TweetsListener(tweepy.StreamListener):\n",
    "\n",
    "    def __init__(self,start_time,time_limit):\n",
    "        super(TweetsListener,self).__init__()\n",
    "        self.time = start_time\n",
    "        self.limit = time_limit\n",
    "        self.tweets_streaming = []\n",
    "\n",
    "    def on_connect(self):\n",
    "        print(\"Conectado\")\n",
    "\n",
    "    def on_status(self, status):\n",
    "        if((time.time() - start_time) > self.limit):\n",
    "            print(\"Streaming de tweets completado\")\n",
    "            print(\"Numero de tweets recogidos: \" + str(len(self.tweets_streaming)))\n",
    "            return False\n",
    "        self.tweets_streaming.append(status.text)\n",
    "          \n",
    "\n",
    "    def on_error(self, status_code):\n",
    "        print(\"Error\", status_code)\n",
    "\n",
    "\n",
    "start_time = time.time()\n",
    "stream = TweetsListener(start_time,10.00)\n",
    "\n",
    "streamingApi = tweepy.Stream(auth=api.auth, listener=stream)\n",
    "streamingApi.filter(languages=[\"es\"], track=[\"ciencia\",\"datos\",\"python\"]) \n",
    "#Andalucia locations=[-7.66,36.01,-1.58,38.81] el filtro no funciona conjuntamente con otras cosas\n",
    "#https://developer.twitter.com/en/docs/twitter-api/v1/tweets/filter-realtime/guides/#basic-stream-parameters\n",
    "\n",
    "cont = 0\n",
    "for tweet in stream.tweets_streaming:\n",
    "    print(\"Tweet número: \" + str(cont))\n",
    "    print(tweet)\n",
    "    cont = cont + 1"
   ]
  }
 ]
}